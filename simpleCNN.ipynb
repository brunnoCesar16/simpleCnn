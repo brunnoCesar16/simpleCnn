{
  "nbformat": 4,
  "nbformat_minor": 0,
  "metadata": {
    "colab": {
      "provenance": [],
      "gpuType": "T4",
      "authorship_tag": "ABX9TyNkcVrB+3cIpYhkStfN/shW",
      "include_colab_link": true
    },
    "kernelspec": {
      "name": "python3",
      "display_name": "Python 3"
    },
    "language_info": {
      "name": "python"
    },
    "accelerator": "GPU"
  },
  "cells": [
    {
      "cell_type": "markdown",
      "metadata": {
        "id": "view-in-github",
        "colab_type": "text"
      },
      "source": [
        "<a href=\"https://colab.research.google.com/github/brunnoCesar16/simpleCnn/blob/main/simpleCNN.ipynb\" target=\"_parent\"><img src=\"https://colab.research.google.com/assets/colab-badge.svg\" alt=\"Open In Colab\"/></a>"
      ]
    },
    {
      "cell_type": "code",
      "source": [
        "import tensorflow as tf\n",
        "import matplotlib.pyplot as plt"
      ],
      "metadata": {
        "id": "m07oJhqwZj9c"
      },
      "execution_count": null,
      "outputs": []
    },
    {
      "cell_type": "code",
      "source": [
        "# adding actual names to the images label:\n",
        "class_names = [\"airplane\", \"automobile\", \"bird\", \"cat\", \"deer\", \"dog\", \"frog\", \"horse\", \"ship\", \"truck\"]\n"
      ],
      "metadata": {
        "id": "3z_wyAOXe7zZ"
      },
      "execution_count": null,
      "outputs": []
    },
    {
      "cell_type": "code",
      "source": [
        "#divide our dataset into subsets\n",
        "from sklearn.model_selection import train_test_split\n",
        "\n",
        "(X_train_temp, y_train_temp), (X_test, y_test) = tf.keras.datasets.cifar10.load_data()\n",
        "X_train, X_val, y_train, y_val = train_test_split(X_train_temp, y_train_temp, test_size=0.15, random_state=42)\n",
        "X_train, X_test = X_train.astype(\"float32\"), X_test.astype(\"float32\")\n",
        "X_train, X_test = X_train / 255 , X_test / 255"
      ],
      "metadata": {
        "id": "yEnfq47Xb4rc"
      },
      "execution_count": null,
      "outputs": []
    },
    {
      "cell_type": "code",
      "source": [
        "for i in range(11):\n",
        "    print(class_names[y_train[i][0]])\n",
        "    plt.imshow(X_train[i])\n",
        "    plt.title(f\"Image {i}\")\n",
        "    plt.axis('off')\n",
        "    plt.show()"
      ],
      "metadata": {
        "id": "zoD8VsMsUCms"
      },
      "execution_count": null,
      "outputs": []
    },
    {
      "cell_type": "code",
      "source": [
        "# Print the shapes of the splits\n",
        "print(\"X_train shape:\", X_train.shape)\n",
        "print(\"y_train shape:\", y_train.shape)\n",
        "print(\"X_test shape:\", X_test.shape)\n",
        "print(\"y_test shape:\", y_test.shape)"
      ],
      "metadata": {
        "colab": {
          "base_uri": "https://localhost:8080/"
        },
        "id": "PcCVPE4ib8XU",
        "outputId": "9f1779fb-9a62-40d2-d085-3a74620f1c17"
      },
      "execution_count": null,
      "outputs": [
        {
          "output_type": "stream",
          "name": "stdout",
          "text": [
            "X_train shape: (42500, 32, 32, 3)\n",
            "y_train shape: (42500, 1)\n",
            "X_test shape: (10000, 32, 32, 3)\n",
            "y_test shape: (10000, 1)\n"
          ]
        }
      ]
    },
    {
      "cell_type": "code",
      "source": [
        "from keras.layers.core.dense import Dense\n",
        "tf.random.set_seed(42)\n",
        "model = tf.keras.Sequential([\n",
        "    tf.keras.layers.Conv2D(filters=30, kernel_size=(3,3), activation=\"relu\", input_shape=(32,32,3)),\n",
        "    tf.keras.layers.MaxPool2D((2,2)),\n",
        "\n",
        "\n",
        "    tf.keras.layers.Flatten(),\n",
        "    tf.keras.layers.Dense(300, activation=\"relu\"),\n",
        "    tf.keras.layers.Dropout(0.5),\n",
        "    tf.keras.layers.Dense(150, activation=\"relu\"),\n",
        "    #tf.keras.layers.Dropout(0.5),\n",
        "    tf.keras.layers.Dense(10, activation=\"softmax\")\n",
        "])"
      ],
      "metadata": {
        "id": "3dtM9Uxvfhmp"
      },
      "execution_count": null,
      "outputs": []
    },
    {
      "cell_type": "code",
      "source": [
        "model.summary()"
      ],
      "metadata": {
        "colab": {
          "base_uri": "https://localhost:8080/"
        },
        "id": "KVTRcLKzi2Hm",
        "outputId": "95b8bf6f-1333-47ba-dd79-3edd727c02ae"
      },
      "execution_count": null,
      "outputs": [
        {
          "output_type": "stream",
          "name": "stdout",
          "text": [
            "Model: \"sequential\"\n",
            "_________________________________________________________________\n",
            " Layer (type)                Output Shape              Param #   \n",
            "=================================================================\n",
            " conv2d (Conv2D)             (None, 30, 30, 30)        840       \n",
            "                                                                 \n",
            " max_pooling2d (MaxPooling2D  (None, 15, 15, 30)       0         \n",
            " )                                                               \n",
            "                                                                 \n",
            " flatten (Flatten)           (None, 6750)              0         \n",
            "                                                                 \n",
            " dense (Dense)               (None, 300)               2025300   \n",
            "                                                                 \n",
            " dense_1 (Dense)             (None, 100)               30100     \n",
            "                                                                 \n",
            " dense_2 (Dense)             (None, 10)                1010      \n",
            "                                                                 \n",
            "=================================================================\n",
            "Total params: 2,057,250\n",
            "Trainable params: 2,057,250\n",
            "Non-trainable params: 0\n",
            "_________________________________________________________________\n"
          ]
        }
      ]
    },
    {
      "cell_type": "code",
      "source": [
        "# compiling the model\n",
        "model.compile( optimizer=tf.keras.optimizers.Adam(learning_rate=0.0001),\n",
        "              #optimizer=tf.keras.optimizers.SGD(learning_rate=0.001),\n",
        "               loss=\"sparse_categorical_crossentropy\",\n",
        "               metrics=[\"accuracy\"])"
      ],
      "metadata": {
        "id": "Mh-NYCEXjG8o"
      },
      "execution_count": null,
      "outputs": []
    },
    {
      "cell_type": "code",
      "source": [
        "history = model.fit(X_train, y_train, epochs=30,\n",
        "                    validation_data=(X_val, y_val),\n",
        "                    batch_size=64)"
      ],
      "metadata": {
        "colab": {
          "base_uri": "https://localhost:8080/"
        },
        "id": "jBNZOe_xpovW",
        "outputId": "cecc4224-e14e-4457-c122-0d72d78a9e57"
      },
      "execution_count": null,
      "outputs": [
        {
          "output_type": "stream",
          "name": "stdout",
          "text": [
            "Epoch 1/30\n",
            "665/665 [==============================] - 3s 5ms/step - loss: 0.8193 - accuracy: 0.7129 - val_loss: 172.3748 - val_accuracy: 0.4708\n",
            "Epoch 2/30\n",
            "665/665 [==============================] - 3s 5ms/step - loss: 0.7986 - accuracy: 0.7226 - val_loss: 150.5512 - val_accuracy: 0.5228\n",
            "Epoch 3/30\n",
            "665/665 [==============================] - 4s 5ms/step - loss: 0.7749 - accuracy: 0.7304 - val_loss: 162.7103 - val_accuracy: 0.5097\n",
            "Epoch 4/30\n",
            "665/665 [==============================] - 4s 5ms/step - loss: 0.7537 - accuracy: 0.7357 - val_loss: 161.3434 - val_accuracy: 0.5029\n",
            "Epoch 5/30\n",
            "665/665 [==============================] - 3s 5ms/step - loss: 0.7323 - accuracy: 0.7445 - val_loss: 140.4863 - val_accuracy: 0.5363\n",
            "Epoch 6/30\n",
            "665/665 [==============================] - 3s 5ms/step - loss: 0.7176 - accuracy: 0.7491 - val_loss: 181.5051 - val_accuracy: 0.4936\n",
            "Epoch 7/30\n",
            "665/665 [==============================] - 4s 6ms/step - loss: 0.6906 - accuracy: 0.7599 - val_loss: 164.4131 - val_accuracy: 0.4913\n",
            "Epoch 8/30\n",
            "665/665 [==============================] - 3s 5ms/step - loss: 0.6798 - accuracy: 0.7628 - val_loss: 161.2561 - val_accuracy: 0.5137\n",
            "Epoch 9/30\n",
            "665/665 [==============================] - 3s 5ms/step - loss: 0.6600 - accuracy: 0.7696 - val_loss: 180.4750 - val_accuracy: 0.4895\n",
            "Epoch 10/30\n",
            "665/665 [==============================] - 3s 5ms/step - loss: 0.6439 - accuracy: 0.7757 - val_loss: 171.1005 - val_accuracy: 0.5133\n",
            "Epoch 11/30\n",
            "665/665 [==============================] - 4s 6ms/step - loss: 0.6277 - accuracy: 0.7821 - val_loss: 167.2067 - val_accuracy: 0.5116\n",
            "Epoch 12/30\n",
            "665/665 [==============================] - 3s 5ms/step - loss: 0.6074 - accuracy: 0.7892 - val_loss: 200.3977 - val_accuracy: 0.4911\n",
            "Epoch 13/30\n",
            "665/665 [==============================] - 3s 5ms/step - loss: 0.5878 - accuracy: 0.7959 - val_loss: 189.3611 - val_accuracy: 0.5064\n",
            "Epoch 14/30\n",
            "665/665 [==============================] - 4s 6ms/step - loss: 0.5755 - accuracy: 0.7999 - val_loss: 181.1081 - val_accuracy: 0.5003\n",
            "Epoch 15/30\n",
            "665/665 [==============================] - 3s 5ms/step - loss: 0.5617 - accuracy: 0.8032 - val_loss: 222.1482 - val_accuracy: 0.4764\n",
            "Epoch 16/30\n",
            "665/665 [==============================] - 3s 5ms/step - loss: 0.5381 - accuracy: 0.8147 - val_loss: 187.6241 - val_accuracy: 0.5012\n",
            "Epoch 17/30\n",
            "665/665 [==============================] - 3s 5ms/step - loss: 0.5258 - accuracy: 0.8168 - val_loss: 209.8679 - val_accuracy: 0.4840\n",
            "Epoch 18/30\n",
            "665/665 [==============================] - 4s 5ms/step - loss: 0.5126 - accuracy: 0.8232 - val_loss: 193.3155 - val_accuracy: 0.5064\n",
            "Epoch 19/30\n",
            "665/665 [==============================] - 3s 5ms/step - loss: 0.4989 - accuracy: 0.8263 - val_loss: 180.8785 - val_accuracy: 0.5283\n",
            "Epoch 20/30\n",
            "665/665 [==============================] - 3s 5ms/step - loss: 0.4849 - accuracy: 0.8320 - val_loss: 194.0778 - val_accuracy: 0.4969\n",
            "Epoch 21/30\n",
            "665/665 [==============================] - 3s 5ms/step - loss: 0.4709 - accuracy: 0.8363 - val_loss: 235.6220 - val_accuracy: 0.4801\n",
            "Epoch 22/30\n",
            "665/665 [==============================] - 4s 6ms/step - loss: 0.4591 - accuracy: 0.8414 - val_loss: 199.2023 - val_accuracy: 0.5236\n",
            "Epoch 23/30\n",
            "665/665 [==============================] - 3s 5ms/step - loss: 0.4406 - accuracy: 0.8460 - val_loss: 213.7760 - val_accuracy: 0.5015\n",
            "Epoch 24/30\n",
            "665/665 [==============================] - 3s 5ms/step - loss: 0.4342 - accuracy: 0.8491 - val_loss: 239.2628 - val_accuracy: 0.4867\n",
            "Epoch 25/30\n",
            "665/665 [==============================] - 3s 5ms/step - loss: 0.4202 - accuracy: 0.8545 - val_loss: 223.1196 - val_accuracy: 0.4951\n",
            "Epoch 26/30\n",
            "665/665 [==============================] - 4s 6ms/step - loss: 0.4077 - accuracy: 0.8594 - val_loss: 226.8499 - val_accuracy: 0.4964\n",
            "Epoch 27/30\n",
            "665/665 [==============================] - 3s 5ms/step - loss: 0.3951 - accuracy: 0.8601 - val_loss: 235.8304 - val_accuracy: 0.5051\n",
            "Epoch 28/30\n",
            "665/665 [==============================] - 3s 5ms/step - loss: 0.3890 - accuracy: 0.8650 - val_loss: 231.3505 - val_accuracy: 0.4987\n",
            "Epoch 29/30\n",
            "665/665 [==============================] - 3s 5ms/step - loss: 0.3700 - accuracy: 0.8706 - val_loss: 236.6120 - val_accuracy: 0.5047\n",
            "Epoch 30/30\n",
            "665/665 [==============================] - 3s 5ms/step - loss: 0.3647 - accuracy: 0.8739 - val_loss: 251.7153 - val_accuracy: 0.4827\n"
          ]
        }
      ]
    },
    {
      "cell_type": "code",
      "source": [
        "model.evaluate(X_test, y_test)"
      ],
      "metadata": {
        "id": "-mYE9E-B2528",
        "colab": {
          "base_uri": "https://localhost:8080/"
        },
        "outputId": "7024ad09-76a4-4453-eff0-c321e74433d5"
      },
      "execution_count": null,
      "outputs": [
        {
          "output_type": "stream",
          "name": "stdout",
          "text": [
            "313/313 [==============================] - 1s 3ms/step - loss: 1.0226 - accuracy: 0.6874\n"
          ]
        },
        {
          "output_type": "execute_result",
          "data": {
            "text/plain": [
              "[1.0225740671157837, 0.6873999834060669]"
            ]
          },
          "metadata": {},
          "execution_count": 32
        }
      ]
    },
    {
      "cell_type": "code",
      "source": [],
      "metadata": {
        "id": "2gA0Xkii-oPU"
      },
      "execution_count": null,
      "outputs": []
    }
  ]
}